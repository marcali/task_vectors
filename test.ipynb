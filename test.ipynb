{
 "cells": [
  {
   "cell_type": "code",
   "execution_count": 1,
   "metadata": {},
   "outputs": [
    {
     "name": "stderr",
     "output_type": "stream",
     "text": [
      "c:\\Users\\alina\\miniconda3\\envs\\task-vectors\\lib\\site-packages\\tqdm\\auto.py:21: TqdmWarning: IProgress not found. Please update jupyter and ipywidgets. See https://ipywidgets.readthedocs.io/en/stable/user_install.html\n",
      "  from .autonotebook import tqdm as notebook_tqdm\n"
     ]
    },
    {
     "name": "stdout",
     "output_type": "stream",
     "text": [
      "Classification head for ViT-L-14 on MNIST exists at src/checkpoints/ViT-L-14\\head_MNIST.pt\n",
      "Loading classification head from src/checkpoints/ViT-L-14\\head_MNIST.pt\n"
     ]
    },
    {
     "name": "stderr",
     "output_type": "stream",
     "text": [
      "c:\\Users\\alina\\miniconda3\\envs\\task-vectors\\lib\\site-packages\\torch\\utils\\data\\dataloader.py:558: UserWarning: This DataLoader will create 16 worker processes in total. Our suggested max number of worker in current system is 8 (`cpuset` is not taken into account), which is smaller than what this DataLoader is going to create. Please be aware that excessive worker creation might get DataLoader running slow or even freeze, lower the worker number to avoid potential slowness/freeze if necessary.\n",
      "  warnings.warn(_create_warning_msg(\n",
      "  0%|          | 0/79 [00:00<?, ?it/s]"
     ]
    },
    {
     "ename": "",
     "evalue": "",
     "output_type": "error",
     "traceback": [
      "\u001b[1;31mThe Kernel crashed while executing code in the current cell or a previous cell. \n",
      "\u001b[1;31mPlease review the code in the cell(s) to identify a possible cause of the failure. \n",
      "\u001b[1;31mClick <a href='https://aka.ms/vscodeJupyterKernelCrash'>here</a> for more info. \n",
      "\u001b[1;31mView Jupyter <a href='command:jupyter.viewOutput'>log</a> for further details."
     ]
    }
   ],
   "source": [
    "import torch\n",
    "from src.task_vectors import TaskVector\n",
    "from src.eval import eval_single_dataset\n",
    "from src.args import parse_arguments\n",
    "import sys\n",
    "\n",
    "if 'ipykernel' in sys.argv[0]:\n",
    "    sys.argv = [sys.argv[0]]\n",
    "\n",
    "args = parse_arguments()\n",
    "\n",
    "# Config\n",
    "dataset = 'MNIST'\n",
    "model = 'ViT-L-14'\n",
    "args = parse_arguments()\n",
    "args.data_location = '/path/to/data'\n",
    "args.model = model\n",
    "args.save = f'src/checkpoints/{model}'\n",
    "pretrained_checkpoint = f'src/checkpoints/{model}/zeroshot.pt'\n",
    "finetuned_checkpoint = f'src/checkpoints/{model}/{dataset}/finetuned.pt'\n",
    "\n",
    "\n",
    "# Create the task vector\n",
    "task_vector = TaskVector(pretrained_checkpoint, finetuned_checkpoint)\n",
    "# Negate the task vector\n",
    "neg_task_vector = -task_vector\n",
    "# Apply the task vector\n",
    "image_encoder = neg_task_vector.apply_to(pretrained_checkpoint, scaling_coef=0.5)\n",
    "# Evaluate\n",
    "eval_single_dataset(image_encoder, dataset, args)\n",
    "eval_single_dataset(image_encoder, 'ImageNet', args)"
   ]
  }
 ],
 "metadata": {
  "kernelspec": {
   "display_name": "task-vectors",
   "language": "python",
   "name": "python3"
  },
  "language_info": {
   "codemirror_mode": {
    "name": "ipython",
    "version": 3
   },
   "file_extension": ".py",
   "mimetype": "text/x-python",
   "name": "python",
   "nbconvert_exporter": "python",
   "pygments_lexer": "ipython3",
   "version": "3.10.13"
  }
 },
 "nbformat": 4,
 "nbformat_minor": 2
}
